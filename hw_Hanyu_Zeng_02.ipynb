{
 "cells": [
  {
   "cell_type": "markdown",
   "metadata": {},
   "source": [
    "# INFSCI 1040\n",
    "\n",
    "## Homework 02 \n",
    "\n",
    "## HANYU ZENG"
   ]
  },
  {
   "cell_type": "markdown",
   "metadata": {},
   "source": [
    "In this assignment you will fit logistic regression models. You will work to understand how regularization impacts model results, and where regularization is applied within Python implementations of logistic regression. You will also assess logistic regression model performance via performance metrics discussed in lecture.  \n",
    "\n",
    "You are allowed to add as many code cells and Markdown cells as you feel are needed.  \n",
    "\n",
    "The cell below imports in libraries, classes, and methods which will be used throughout this assignment."
   ]
  },
  {
   "cell_type": "code",
   "execution_count": 1,
   "metadata": {},
   "outputs": [],
   "source": [
    "import pandas as pd\n",
    "import numpy as np\n",
    "import matplotlib.pyplot as plt\n",
    "from sklearn.linear_model import LogisticRegression\n",
    "from sklearn.model_selection import KFold, cross_val_score\n",
    "from sklearn import metrics\n",
    "from sklearn.calibration import calibration_curve"
   ]
  },
  {
   "cell_type": "code",
   "execution_count": 2,
   "metadata": {},
   "outputs": [],
   "source": [
    "from patsy import dmatrices"
   ]
  },
  {
   "cell_type": "code",
   "execution_count": 3,
   "metadata": {},
   "outputs": [],
   "source": [
    "import statsmodels.formula.api as smf"
   ]
  },
  {
   "cell_type": "markdown",
   "metadata": {},
   "source": [
    "## Problem 01 (15 points)\n",
    "Read in the training set below. It consists of an input `x` and a binary response `y`. The binary response is encoded as 0 and 1 to represent the non-event and the event, respectively."
   ]
  },
  {
   "cell_type": "code",
   "execution_count": 4,
   "metadata": {
    "scrolled": true
   },
   "outputs": [
    {
     "data": {
      "text/html": [
       "<div>\n",
       "<style scoped>\n",
       "    .dataframe tbody tr th:only-of-type {\n",
       "        vertical-align: middle;\n",
       "    }\n",
       "\n",
       "    .dataframe tbody tr th {\n",
       "        vertical-align: top;\n",
       "    }\n",
       "\n",
       "    .dataframe thead th {\n",
       "        text-align: right;\n",
       "    }\n",
       "</style>\n",
       "<table border=\"1\" class=\"dataframe\">\n",
       "  <thead>\n",
       "    <tr style=\"text-align: right;\">\n",
       "      <th></th>\n",
       "      <th>x</th>\n",
       "      <th>y</th>\n",
       "    </tr>\n",
       "  </thead>\n",
       "  <tbody>\n",
       "    <tr>\n",
       "      <td>count</td>\n",
       "      <td>50.000000</td>\n",
       "      <td>50.000000</td>\n",
       "    </tr>\n",
       "    <tr>\n",
       "      <td>mean</td>\n",
       "      <td>-0.107271</td>\n",
       "      <td>0.460000</td>\n",
       "    </tr>\n",
       "    <tr>\n",
       "      <td>std</td>\n",
       "      <td>1.028262</td>\n",
       "      <td>0.503457</td>\n",
       "    </tr>\n",
       "    <tr>\n",
       "      <td>min</td>\n",
       "      <td>-2.453090</td>\n",
       "      <td>0.000000</td>\n",
       "    </tr>\n",
       "    <tr>\n",
       "      <td>25%</td>\n",
       "      <td>-0.880415</td>\n",
       "      <td>0.000000</td>\n",
       "    </tr>\n",
       "    <tr>\n",
       "      <td>50%</td>\n",
       "      <td>-0.069746</td>\n",
       "      <td>0.000000</td>\n",
       "    </tr>\n",
       "    <tr>\n",
       "      <td>75%</td>\n",
       "      <td>0.625438</td>\n",
       "      <td>1.000000</td>\n",
       "    </tr>\n",
       "    <tr>\n",
       "      <td>max</td>\n",
       "      <td>2.125727</td>\n",
       "      <td>1.000000</td>\n",
       "    </tr>\n",
       "  </tbody>\n",
       "</table>\n",
       "</div>"
      ],
      "text/plain": [
       "               x          y\n",
       "count  50.000000  50.000000\n",
       "mean   -0.107271   0.460000\n",
       "std     1.028262   0.503457\n",
       "min    -2.453090   0.000000\n",
       "25%    -0.880415   0.000000\n",
       "50%    -0.069746   0.000000\n",
       "75%     0.625438   1.000000\n",
       "max     2.125727   1.000000"
      ]
     },
     "execution_count": 4,
     "metadata": {},
     "output_type": "execute_result"
    }
   ],
   "source": [
    "train_url = 'https://raw.githubusercontent.com/jyurko/INFSCI_1040_Spring_2020/master/hw_data/hw_02/training_set.csv'\n",
    "train_df = pd.read_csv(train_url)\n",
    "\n",
    "train_df.describe()"
   ]
  },
  {
   "cell_type": "code",
   "execution_count": 6,
   "metadata": {},
   "outputs": [],
   "source": [
    "df = train_df"
   ]
  },
  {
   "cell_type": "code",
   "execution_count": 15,
   "metadata": {},
   "outputs": [],
   "source": [
    "X = df[['x']]\n",
    "y = df[['y']]"
   ]
  },
  {
   "cell_type": "code",
   "execution_count": 16,
   "metadata": {},
   "outputs": [
    {
     "data": {
      "image/png": "[encoded data removed]",
      "text/plain": [
       "<Figure size 432x288 with 1 Axes>"
      ]
     },
     "metadata": {
      "needs_background": "light"
     },
     "output_type": "display_data"
    }
   ],
   "source": [
    "fig, ax = plt.subplots()\n",
    "ax = df.plot.scatter(x = 'x', y = 'y', ax = ax)\n",
    "plt.show()"
   ]
  },
  {
   "cell_type": "code",
   "execution_count": 23,
   "metadata": {
    "collapsed": true
   },
   "outputs": [
    {
     "name": "stdout",
     "output_type": "stream",
     "text": [
      "Optimization terminated successfully.\n",
      "         Current function value: 0.598495\n",
      "         Iterations 5\n"
     ]
    },
    {
     "data": {
      "text/html": [
       "<table class=\"simpletable\">\n",
       "<caption>Logit Regression Results</caption>\n",
       "<tr>\n",
       "  <th>Dep. Variable:</th>           <td>y</td>        <th>  No. Observations:  </th>  <td>    50</td> \n",
       "</tr>\n",
       "<tr>\n",
       "  <th>Model:</th>                 <td>Logit</td>      <th>  Df Residuals:      </th>  <td>    48</td> \n",
       "</tr>\n",
       "<tr>\n",
       "  <th>Method:</th>                 <td>MLE</td>       <th>  Df Model:          </th>  <td>     1</td> \n",
       "</tr>\n",
       "<tr>\n",
       "  <th>Date:</th>            <td>Thu, 02 Apr 2020</td> <th>  Pseudo R-squ.:     </th>  <td>0.1325</td> \n",
       "</tr>\n",
       "<tr>\n",
       "  <th>Time:</th>                <td>17:49:56</td>     <th>  Log-Likelihood:    </th> <td> -29.925</td>\n",
       "</tr>\n",
       "<tr>\n",
       "  <th>converged:</th>             <td>True</td>       <th>  LL-Null:           </th> <td> -34.497</td>\n",
       "</tr>\n",
       "<tr>\n",
       "  <th>Covariance Type:</th>     <td>nonrobust</td>    <th>  LLR p-value:       </th> <td>0.002494</td>\n",
       "</tr>\n",
       "</table>\n",
       "<table class=\"simpletable\">\n",
       "<tr>\n",
       "      <td></td>         <th>coef</th>     <th>std err</th>      <th>z</th>      <th>P>|z|</th>  <th>[0.025</th>    <th>0.975]</th>  \n",
       "</tr>\n",
       "<tr>\n",
       "  <th>Intercept</th> <td>   -0.0947</td> <td>    0.312</td> <td>   -0.304</td> <td> 0.761</td> <td>   -0.706</td> <td>    0.516</td>\n",
       "</tr>\n",
       "<tr>\n",
       "  <th>x</th>         <td>    0.9552</td> <td>    0.356</td> <td>    2.687</td> <td> 0.007</td> <td>    0.258</td> <td>    1.652</td>\n",
       "</tr>\n",
       "</table>"
      ],
      "text/plain": [
       "<class 'statsmodels.iolib.summary.Summary'>\n",
       "\"\"\"\n",
       "                           Logit Regression Results                           \n",
       "==============================================================================\n",
       "Dep. Variable:                      y   No. Observations:                   50\n",
       "Model:                          Logit   Df Residuals:                       48\n",
       "Method:                           MLE   Df Model:                            1\n",
       "Date:                Thu, 02 Apr 2020   Pseudo R-squ.:                  0.1325\n",
       "Time:                        17:49:56   Log-Likelihood:                -29.925\n",
       "converged:                       True   LL-Null:                       -34.497\n",
       "Covariance Type:            nonrobust   LLR p-value:                  0.002494\n",
       "==============================================================================\n",
       "                 coef    std err          z      P>|z|      [0.025      0.975]\n",
       "------------------------------------------------------------------------------\n",
       "Intercept     -0.0947      0.312     -0.304      0.761      -0.706       0.516\n",
       "x              0.9552      0.356      2.687      0.007       0.258       1.652\n",
       "==============================================================================\n",
       "\"\"\""
      ]
     },
     "execution_count": 23,
     "metadata": {},
     "output_type": "execute_result"
    }
   ],
   "source": [
    "mdl = smf.logit('y~x', data = df).fit()\n",
    "mdl.summary()"
   ]
  },
  {
   "cell_type": "code",
   "execution_count": 29,
   "metadata": {},
   "outputs": [
    {
     "data": {
      "text/plain": [
       "<Figure size 432x288 with 0 Axes>"
      ]
     },
     "metadata": {},
     "output_type": "display_data"
    }
   ],
   "source": [
    "fig, ax = plt.subplot()\n",
    "plt.clf()\n",
    "plt.scatter(x,y,color='black')\n",
    "ols = linear_model.Linear"
   ]
  },
  {
   "cell_type": "code",
   "execution_count": 27,
   "metadata": {},
   "outputs": [],
   "source": [
    "import seaborn as sns"
   ]
  },
  {
   "cell_type": "code",
   "execution_count": 26,
   "metadata": {},
   "outputs": [
    {
     "data": {
      "text/plain": [
       "<matplotlib.axes._subplots.AxesSubplot at 0x28e8dacb208>"
      ]
     },
     "execution_count": 26,
     "metadata": {},
     "output_type": "execute_result"
    },
    {
     "data": {
      "image/png": "[encoded data removed]",
      "text/plain": [
       "<Figure size 432x288 with 1 Axes>"
      ]
     },
     "metadata": {
      "needs_background": "light"
     },
     "output_type": "display_data"
    }
   ],
   "source": [
    "sns.regplot(x,y, data = df, logistic = True)"
   ]
  },
  {
   "cell_type": "code",
   "execution_count": 6,
   "metadata": {
    "scrolled": true
   },
   "outputs": [
    {
     "name": "stdout",
     "output_type": "stream",
     "text": [
      "<class 'pandas.core.frame.DataFrame'>\n",
      "RangeIndex: 50 entries, 0 to 49\n",
      "Data columns (total 2 columns):\n",
      "x    50 non-null float64\n",
      "y    50 non-null int64\n",
      "dtypes: float64(1), int64(1)\n",
      "memory usage: 928.0 bytes\n",
      "None\n"
     ]
    }
   ],
   "source": [
    "print(train_df.info())"
   ]
  },
  {
   "cell_type": "markdown",
   "metadata": {},
   "source": [
    "We will fit a logistic regression model with a simple linear relationship between the input, $x$, and the linear predictor, $\\eta$. The linear predictor is transformed into the probability of the event, $\\mu$, via the logistic (inverse logit) function. The likelihood between the observed response, $y$, is a Bernoulli distribution.  \n",
    "\n",
    "The model we wish to fit is shown below.  \n",
    "\n",
    "$$ y_n \\mid \\mu_n \\sim \\mathrm{Bernoulli} \\left( y_n \\mid \\mu_n \\right) $$  \n",
    "$$ \\mu_n = \\mathrm{logit}^{-1} \\left(\\eta_n \\right) $$ \n",
    "$$ \\eta_n = \\beta_0 + \\beta_1 x_n $$"
   ]
  },
  {
   "cell_type": "markdown",
   "metadata": {},
   "source": [
    "### 1a)"
   ]
  },
  {
   "cell_type": "markdown",
   "metadata": {},
   "source": [
    "Let's start out by fitting the logistic regression model with `statsmodels` using the formula interface. With the formula api imported in, as `smf`, you can use `smf.logit()` to fit the model."
   ]
  },
  {
   "cell_type": "code",
   "execution_count": 27,
   "metadata": {
    "collapsed": true
   },
   "outputs": [
    {
     "name": "stdout",
     "output_type": "stream",
     "text": [
      "Optimization terminated successfully.\n",
      "         Current function value: 0.598495\n",
      "         Iterations 5\n",
      "                           Logit Regression Results                           \n",
      "==============================================================================\n",
      "Dep. Variable:                      y   No. Observations:                   50\n",
      "Model:                          Logit   Df Residuals:                       48\n",
      "Method:                           MLE   Df Model:                            1\n",
      "Date:                Sun, 23 Feb 2020   Pseudo R-squ.:                  0.1325\n",
      "Time:                        22:34:34   Log-Likelihood:                -29.925\n",
      "converged:                       True   LL-Null:                       -34.497\n",
      "Covariance Type:            nonrobust   LLR p-value:                  0.002494\n",
      "==============================================================================\n",
      "                 coef    std err          z      P>|z|      [0.025      0.975]\n",
      "------------------------------------------------------------------------------\n",
      "Intercept     -0.0947      0.312     -0.304      0.761      -0.706       0.516\n",
      "x              0.9552      0.356      2.687      0.007       0.258       1.652\n",
      "==============================================================================\n"
     ]
    }
   ],
   "source": [
    "#input the observed and input into the logit function and fit the data\n",
    "mdl = smf.logit(formula = 'y~x',data = train_df).fit()\n",
    "print(mdl.summary())"
   ]
  },
  {
   "cell_type": "code",
   "execution_count": 28,
   "metadata": {},
   "outputs": [
    {
     "name": "stdout",
     "output_type": "stream",
     "text": [
      "Intercept: -0.0947\n",
      "Slope: 0.9552\n"
     ]
    }
   ],
   "source": [
    "print('Intercept: -0.0947')\n",
    "print('Slope: 0.9552')"
   ]
  },
  {
   "cell_type": "markdown",
   "metadata": {},
   "source": [
    "### 1b)\n",
    "Let's use scikit-learn to fit the logistic regression model, instead of `statsmodels`. To do so, we must first create the response vector and design matrix. As discussed in lecture, we should neglect the intercept column when we create design matrices for scikit-learn models. Thus, we will instruct the formula interface in `dmatrices()` to drop the intercept.  "
   ]
  },
  {
   "cell_type": "code",
   "execution_count": 37,
   "metadata": {
    "scrolled": true
   },
   "outputs": [
    {
     "name": "stdout",
     "output_type": "stream",
     "text": [
      "[[0.85205114]] Which is smaller than the coefficient that we got from statsmodel\n"
     ]
    }
   ],
   "source": [
    "#creating the design matrices\n",
    "yl,Xl = dmatrices(\"y~x-1\",data = train_df, return_type = 'dataframe')\n",
    "\n",
    "#sklearn output\n",
    "mdl = LogisticRegression(solver = 'lbfgs').fit(Xl,np.ravel(yl))\n",
    "#coefficient from sklearn model\n",
    "cmdl = mdl.coef_\n",
    "print(cmdl,'Which is smaller than the coefficient that we got from statsmodel')"
   ]
  },
  {
   "cell_type": "markdown",
   "metadata": {},
   "source": [
    "The scikit-learn implementation of logistic regression has been imported in already. Set the `solver` argument to `LogisticRegression()` equal to `'lbfgs'`. When we call the `.fit()` method associated with `LogisticRegression()` we will get a warning message if we pass in the response column vector directly from `dmatrices()`. The model will still fit, but to prevent the warning message you can use the `.ravel()` method associated with the response object."
   ]
  },
  {
   "cell_type": "markdown",
   "metadata": {},
   "source": [
    "### 1c)\n",
    "The logistic regression method in scikit-learn, `LogisticRegression()`, does not actually find the maximum likelihood estimates (MLEs) on the parameters of the logistic regression model. By default it applies a ridge penalty to regularize the parameters!"
   ]
  },
  {
   "cell_type": "code",
   "execution_count": 40,
   "metadata": {
    "scrolled": true
   },
   "outputs": [
    {
     "name": "stdout",
     "output_type": "stream",
     "text": [
      "[[0.09236139]] the coefficient was previously 0.85\n"
     ]
    }
   ],
   "source": [
    "#sklearn output wih the c value\n",
    "#c == 0.01\n",
    "mdl = LogisticRegression(C = 0.01, solver = 'lbfgs').fit(Xl,np.ravel(yl))\n",
    "a = mdl.coef_\n",
    "print(a,\"the coefficient was previously 0.85\")"
   ]
  },
  {
   "cell_type": "markdown",
   "metadata": {},
   "source": [
    "### 1d)"
   ]
  },
  {
   "cell_type": "code",
   "execution_count": 41,
   "metadata": {},
   "outputs": [
    {
     "name": "stdout",
     "output_type": "stream",
     "text": [
      "[[0.95400708]] the value is closest to the calculated by statsmodel\n"
     ]
    }
   ],
   "source": [
    "#sklearn output with the c value\n",
    "#c == 100\n",
    "mdl = LogisticRegression(C = 100, solver = 'lbfgs').fit(Xl,np.ravel(yl))\n",
    "b = mdl.coef_\n",
    "print(b,\"the value is closest to the calculated by statsmodel\")"
   ]
  },
  {
   "cell_type": "markdown",
   "metadata": {},
   "source": [
    "### 1e)\n",
    "Alternatively, if we want classic logistic regression with maximum likelihood estimate coefficients we can completely turn off the regularization. To do so, we must set the `penalty` argument to `LogisticRegression()` equal to `'none'`. The default ridge penalty corresponds to `penalty='l2'`. We could also use `'l1'` for lasso or `'elasticnet'` which is a mixture of lasso and ridge. When changing the `penalty` argument in scikit-learn, you must also check to make sure the selected `solver` can handle that type of penalization. The `'lbfgs'` option we have used in this problem can handle ridge and no penalty. So, let's go ahead and fit the model with `penalty='none'`.  "
   ]
  },
  {
   "cell_type": "code",
   "execution_count": 42,
   "metadata": {
    "scrolled": true
   },
   "outputs": [
    {
     "name": "stdout",
     "output_type": "stream",
     "text": [
      "[[0.95521231]] turning off the penalty value which resulted the same value that was previously calculated in statsmodel\n"
     ]
    }
   ],
   "source": [
    "mdl = LogisticRegression(penalty = 'none',solver = 'lbfgs').fit(Xl,np.ravel(yl))\n",
    "c = mdl.coef_\n",
    "print(c,\"turning off the penalty value which resulted the same value that was previously calculated in statsmodel\")"
   ]
  },
  {
   "cell_type": "markdown",
   "metadata": {},
   "source": [
    "## Problem 02 (20 points)\n",
    "In Problem 01, we focused on a simple linear relationship between the linear predictor $\\eta$ and the input $x$. In this problem we will fit a cubic relationship and a 7th order polynomial. We will set the `penalty` term in the scikit-learn `LogisticRegression()` object to be `'none'` for both models, thus the logistic regression models will be fit by maximizing the likelihood."
   ]
  },
  {
   "cell_type": "markdown",
   "metadata": {},
   "source": [
    "### 2a) \n",
    "There should be exactly four unknown parameter for the cubic model"
   ]
  },
  {
   "cell_type": "markdown",
   "metadata": {},
   "source": [
    "### 2b)\n",
    "To fit the logistic regression model, we must first create the design matrix. Since we will use scikit-learn to fit the model, we will **not** include the intercept column in the design matrix."
   ]
  },
  {
   "cell_type": "code",
   "execution_count": 43,
   "metadata": {},
   "outputs": [],
   "source": [
    "#create a new dataframe so we can cube X\n",
    "cu = train_df[['x','y']].copy()\n",
    "#cube the x value to create the cubic \n",
    "cu = cu.rename(columns = {'x':'x3','y':'y'})\n",
    "cu['x3']=np.power(cu['x3'],3)\n",
    "########################################\n",
    "#create a new dataframe so we can square x\n",
    "sq = train_df[['x','y']].copy()\n",
    "sq = sq.rename(columns = {'x':'x2','y':'y'})\n",
    "#square the x value \n",
    "sq['x2'] = np.power(sq['x2'],2)"
   ]
  },
  {
   "cell_type": "code",
   "execution_count": 184,
   "metadata": {},
   "outputs": [],
   "source": [
    "#Since there is going to be four unknown parameter we need a new dataframe\n",
    "n_df = train_df[['x','y']].copy()\n",
    "#adding the cubic and square into the new dataframe\n",
    "n_df['x2'] = sq['x2']\n",
    "n_df['x3'] = cu['x3'] \n",
    "#n_df.head()"
   ]
  },
  {
   "cell_type": "code",
   "execution_count": 45,
   "metadata": {},
   "outputs": [],
   "source": [
    "#design matrix for the cubic function\n",
    "yc,xc = dmatrices(\"y~x+x2+x3-1\", data = n_df, return_type = 'dataframe')"
   ]
  },
  {
   "cell_type": "code",
   "execution_count": 46,
   "metadata": {},
   "outputs": [
    {
     "data": {
      "text/html": [
       "<div>\n",
       "<style scoped>\n",
       "    .dataframe tbody tr th:only-of-type {\n",
       "        vertical-align: middle;\n",
       "    }\n",
       "\n",
       "    .dataframe tbody tr th {\n",
       "        vertical-align: top;\n",
       "    }\n",
       "\n",
       "    .dataframe thead th {\n",
       "        text-align: right;\n",
       "    }\n",
       "</style>\n",
       "<table border=\"1\" class=\"dataframe\">\n",
       "  <thead>\n",
       "    <tr style=\"text-align: right;\">\n",
       "      <th></th>\n",
       "      <th>x</th>\n",
       "      <th>x2</th>\n",
       "      <th>x3</th>\n",
       "    </tr>\n",
       "  </thead>\n",
       "  <tbody>\n",
       "    <tr>\n",
       "      <td>0</td>\n",
       "      <td>1.288354</td>\n",
       "      <td>1.659856</td>\n",
       "      <td>2.138481</td>\n",
       "    </tr>\n",
       "    <tr>\n",
       "      <td>1</td>\n",
       "      <td>1.149273</td>\n",
       "      <td>1.320827</td>\n",
       "      <td>1.517991</td>\n",
       "    </tr>\n",
       "    <tr>\n",
       "      <td>2</td>\n",
       "      <td>0.654326</td>\n",
       "      <td>0.428143</td>\n",
       "      <td>0.280145</td>\n",
       "    </tr>\n",
       "    <tr>\n",
       "      <td>3</td>\n",
       "      <td>0.695236</td>\n",
       "      <td>0.483353</td>\n",
       "      <td>0.336044</td>\n",
       "    </tr>\n",
       "    <tr>\n",
       "      <td>4</td>\n",
       "      <td>-1.137775</td>\n",
       "      <td>1.294533</td>\n",
       "      <td>-1.472888</td>\n",
       "    </tr>\n",
       "  </tbody>\n",
       "</table>\n",
       "</div>"
      ],
      "text/plain": [
       "          x        x2        x3\n",
       "0  1.288354  1.659856  2.138481\n",
       "1  1.149273  1.320827  1.517991\n",
       "2  0.654326  0.428143  0.280145\n",
       "3  0.695236  0.483353  0.336044\n",
       "4 -1.137775  1.294533 -1.472888"
      ]
     },
     "execution_count": 46,
     "metadata": {},
     "output_type": "execute_result"
    }
   ],
   "source": [
    "xc.head()"
   ]
  },
  {
   "cell_type": "markdown",
   "metadata": {},
   "source": [
    "### 2c)\n",
    "You should continue to be cautious with the dimensions of the response vector."
   ]
  },
  {
   "cell_type": "code",
   "execution_count": 47,
   "metadata": {
    "scrolled": true
   },
   "outputs": [
    {
     "data": {
      "text/plain": [
       "array([[ 1.01335728, -0.17465769, -0.08286256]])"
      ]
     },
     "execution_count": 47,
     "metadata": {},
     "output_type": "execute_result"
    }
   ],
   "source": [
    "cmdl = LogisticRegression(solver = 'lbfgs').fit(xc,np.ravel(y))\n",
    "cmdl.coef_"
   ]
  },
  {
   "cell_type": "markdown",
   "metadata": {},
   "source": [
    "### 2d)"
   ]
  },
  {
   "cell_type": "markdown",
   "metadata": {},
   "source": [
    "$\\mu$ = $\\beta_0$ + $\\beta_1x$ + $\\beta_2x^2$ + $\\beta_3x^3$ + $\\beta_4x^4$ + $\\beta_5x^5$ + $\\beta_6x^6$ + $\\beta_7x^7$\n",
    "\n",
    "There would be seven columns for the seventh polynomial function"
   ]
  },
  {
   "cell_type": "markdown",
   "metadata": {},
   "source": [
    "### 2e)"
   ]
  },
  {
   "cell_type": "code",
   "execution_count": 49,
   "metadata": {},
   "outputs": [],
   "source": [
    "#create a new dataframe for x^7\n",
    "sv = train_df[['x','y']].copy()\n",
    "#x^7\n",
    "sv = sv.rename(columns = {'x':'x7','y':'y'})\n",
    "sv['x7']=np.power(sv['x7'],7)\n",
    "########################################\n",
    "#create a new dataframe for x^6\n",
    "sx = train_df[['x','y']].copy()\n",
    "#x^6\n",
    "sx = sx.rename(columns = {'x':'x6','y':'y'})\n",
    "sx['x6']=np.power(sx['x6'],6)\n",
    "########################################\n",
    "#create a new dataframe so we can x^5\n",
    "fi = train_df[['x','y']].copy()\n",
    "#x^5\n",
    "fi = fi.rename(columns = {'x':'x5','y':'y'})\n",
    "fi['x5']=np.power(fi['x5'],5)\n",
    "########################################\n",
    "#create a new dataframe for x^4\n",
    "fo = train_df[['x','y']].copy()\n",
    "fo = fo.rename(columns = {'x':'x4','y':'y'})\n",
    "#x^4\n",
    "fo['x4'] = np.power(fo['x4'],4)"
   ]
  },
  {
   "cell_type": "code",
   "execution_count": 50,
   "metadata": {},
   "outputs": [],
   "source": [
    "#adding all the polynomial to the dataframe\n",
    "n_df['x4'] = fo['x4'] \n",
    "n_df['x5'] = fi['x5']\n",
    "n_df['x6'] = sx['x6']\n",
    "n_df['x7'] = sv['x7']"
   ]
  },
  {
   "cell_type": "code",
   "execution_count": 199,
   "metadata": {},
   "outputs": [
    {
     "data": {
      "text/html": [
       "<div>\n",
       "<style scoped>\n",
       "    .dataframe tbody tr th:only-of-type {\n",
       "        vertical-align: middle;\n",
       "    }\n",
       "\n",
       "    .dataframe tbody tr th {\n",
       "        vertical-align: top;\n",
       "    }\n",
       "\n",
       "    .dataframe thead th {\n",
       "        text-align: right;\n",
       "    }\n",
       "</style>\n",
       "<table border=\"1\" class=\"dataframe\">\n",
       "  <thead>\n",
       "    <tr style=\"text-align: right;\">\n",
       "      <th></th>\n",
       "      <th>x</th>\n",
       "      <th>y</th>\n",
       "      <th>x2</th>\n",
       "      <th>x3</th>\n",
       "      <th>x4</th>\n",
       "      <th>x5</th>\n",
       "      <th>x6</th>\n",
       "      <th>x7</th>\n",
       "    </tr>\n",
       "  </thead>\n",
       "  <tbody>\n",
       "    <tr>\n",
       "      <td>0</td>\n",
       "      <td>1.288354</td>\n",
       "      <td>1</td>\n",
       "      <td>1.659856</td>\n",
       "      <td>2.138481</td>\n",
       "      <td>0.080838</td>\n",
       "      <td>-0.043104</td>\n",
       "      <td>0.022984</td>\n",
       "      <td>-0.012255</td>\n",
       "    </tr>\n",
       "    <tr>\n",
       "      <td>1</td>\n",
       "      <td>1.149273</td>\n",
       "      <td>1</td>\n",
       "      <td>1.320827</td>\n",
       "      <td>1.517991</td>\n",
       "      <td>0.984842</td>\n",
       "      <td>-0.981088</td>\n",
       "      <td>0.977349</td>\n",
       "      <td>-0.973624</td>\n",
       "    </tr>\n",
       "    <tr>\n",
       "      <td>2</td>\n",
       "      <td>0.654326</td>\n",
       "      <td>1</td>\n",
       "      <td>0.428143</td>\n",
       "      <td>0.280145</td>\n",
       "      <td>2.529813</td>\n",
       "      <td>-3.190513</td>\n",
       "      <td>4.023765</td>\n",
       "      <td>-5.074634</td>\n",
       "    </tr>\n",
       "    <tr>\n",
       "      <td>3</td>\n",
       "      <td>0.695236</td>\n",
       "      <td>1</td>\n",
       "      <td>0.483353</td>\n",
       "      <td>0.336044</td>\n",
       "      <td>0.117762</td>\n",
       "      <td>0.068985</td>\n",
       "      <td>0.040412</td>\n",
       "      <td>0.023673</td>\n",
       "    </tr>\n",
       "    <tr>\n",
       "      <td>4</td>\n",
       "      <td>-1.137775</td>\n",
       "      <td>0</td>\n",
       "      <td>1.294533</td>\n",
       "      <td>-1.472888</td>\n",
       "      <td>0.118295</td>\n",
       "      <td>0.069376</td>\n",
       "      <td>0.040686</td>\n",
       "      <td>0.023861</td>\n",
       "    </tr>\n",
       "  </tbody>\n",
       "</table>\n",
       "</div>"
      ],
      "text/plain": [
       "          x  y        x2        x3        x4        x5        x6        x7\n",
       "0  1.288354  1  1.659856  2.138481  0.080838 -0.043104  0.022984 -0.012255\n",
       "1  1.149273  1  1.320827  1.517991  0.984842 -0.981088  0.977349 -0.973624\n",
       "2  0.654326  1  0.428143  0.280145  2.529813 -3.190513  4.023765 -5.074634\n",
       "3  0.695236  1  0.483353  0.336044  0.117762  0.068985  0.040412  0.023673\n",
       "4 -1.137775  0  1.294533 -1.472888  0.118295  0.069376  0.040686  0.023861"
      ]
     },
     "execution_count": 199,
     "metadata": {},
     "output_type": "execute_result"
    }
   ],
   "source": [
    "n_df.head()"
   ]
  },
  {
   "cell_type": "code",
   "execution_count": 53,
   "metadata": {
    "scrolled": true
   },
   "outputs": [
    {
     "data": {
      "text/html": [
       "<div>\n",
       "<style scoped>\n",
       "    .dataframe tbody tr th:only-of-type {\n",
       "        vertical-align: middle;\n",
       "    }\n",
       "\n",
       "    .dataframe tbody tr th {\n",
       "        vertical-align: top;\n",
       "    }\n",
       "\n",
       "    .dataframe thead th {\n",
       "        text-align: right;\n",
       "    }\n",
       "</style>\n",
       "<table border=\"1\" class=\"dataframe\">\n",
       "  <thead>\n",
       "    <tr style=\"text-align: right;\">\n",
       "      <th></th>\n",
       "      <th>x</th>\n",
       "      <th>x2</th>\n",
       "      <th>x3</th>\n",
       "      <th>x4</th>\n",
       "      <th>x5</th>\n",
       "      <th>x6</th>\n",
       "      <th>x7</th>\n",
       "    </tr>\n",
       "  </thead>\n",
       "  <tbody>\n",
       "    <tr>\n",
       "      <td>0</td>\n",
       "      <td>1.288354</td>\n",
       "      <td>1.659856</td>\n",
       "      <td>2.138481</td>\n",
       "      <td>2.755121</td>\n",
       "      <td>3.549570</td>\n",
       "      <td>4.573103</td>\n",
       "      <td>5.891775</td>\n",
       "    </tr>\n",
       "    <tr>\n",
       "      <td>1</td>\n",
       "      <td>1.149273</td>\n",
       "      <td>1.320827</td>\n",
       "      <td>1.517991</td>\n",
       "      <td>1.744585</td>\n",
       "      <td>2.005004</td>\n",
       "      <td>2.304296</td>\n",
       "      <td>2.648264</td>\n",
       "    </tr>\n",
       "    <tr>\n",
       "      <td>2</td>\n",
       "      <td>0.654326</td>\n",
       "      <td>0.428143</td>\n",
       "      <td>0.280145</td>\n",
       "      <td>0.183306</td>\n",
       "      <td>0.119942</td>\n",
       "      <td>0.078481</td>\n",
       "      <td>0.051352</td>\n",
       "    </tr>\n",
       "    <tr>\n",
       "      <td>3</td>\n",
       "      <td>0.695236</td>\n",
       "      <td>0.483353</td>\n",
       "      <td>0.336044</td>\n",
       "      <td>0.233630</td>\n",
       "      <td>0.162428</td>\n",
       "      <td>0.112926</td>\n",
       "      <td>0.078510</td>\n",
       "    </tr>\n",
       "    <tr>\n",
       "      <td>4</td>\n",
       "      <td>-1.137775</td>\n",
       "      <td>1.294533</td>\n",
       "      <td>-1.472888</td>\n",
       "      <td>1.675815</td>\n",
       "      <td>-1.906701</td>\n",
       "      <td>2.169398</td>\n",
       "      <td>-2.468287</td>\n",
       "    </tr>\n",
       "  </tbody>\n",
       "</table>\n",
       "</div>"
      ],
      "text/plain": [
       "          x        x2        x3        x4        x5        x6        x7\n",
       "0  1.288354  1.659856  2.138481  2.755121  3.549570  4.573103  5.891775\n",
       "1  1.149273  1.320827  1.517991  1.744585  2.005004  2.304296  2.648264\n",
       "2  0.654326  0.428143  0.280145  0.183306  0.119942  0.078481  0.051352\n",
       "3  0.695236  0.483353  0.336044  0.233630  0.162428  0.112926  0.078510\n",
       "4 -1.137775  1.294533 -1.472888  1.675815 -1.906701  2.169398 -2.468287"
      ]
     },
     "execution_count": 53,
     "metadata": {},
     "output_type": "execute_result"
    }
   ],
   "source": [
    "#design matrix for the seventh polynomial\n",
    "ys,xs = dmatrices(\"y~x+x2+x3+x4+x5+x6+x7-1\", data = n_df, return_type = 'dataframe')\n",
    "#show the amount of column we have excluding the intercept\n",
    "xs.head()"
   ]
  },
  {
   "cell_type": "markdown",
   "metadata": {},
   "source": [
    "### 2f)\n",
    "Please note again that the `.ravel()` method is applied to the `dmatrices()` response vector should be used in the call to the `.fit()` method. Please raise, the maximum number of iterations, `max_iter`. Set it to 1001.  "
   ]
  },
  {
   "cell_type": "code",
   "execution_count": 83,
   "metadata": {},
   "outputs": [
    {
     "data": {
      "text/plain": [
       "array([[ 0.93242619, -0.45145822,  0.78735425, -0.0593608 , -0.57459551,\n",
       "         0.04188569,  0.08292674]])"
      ]
     },
     "execution_count": 83,
     "metadata": {},
     "output_type": "execute_result"
    }
   ],
   "source": [
    "#building logistic regression for seventh polynomial\n",
    "smdl = LogisticRegression(solver = 'lbfgs',max_iter = 1001).fit(xs,np.ravel(ys))\n",
    "smdl.coef_"
   ]
  },
  {
   "cell_type": "markdown",
   "metadata": {},
   "source": [
    "### 2g)\n",
    "Setting random seeds would not matter as the predicted values are observation of events and non events and also the differernt results should not be a problem because it does not effect the final result."
   ]
  },
  {
   "cell_type": "markdown",
   "metadata": {},
   "source": [
    "## Problem 03 (25 points)\n",
    "Let's now compare the 3 different logistic regression models we have fit to the training data. The following comparisons will be made just on the training set."
   ]
  },
  {
   "cell_type": "markdown",
   "metadata": {},
   "source": [
    "### 3a)\n",
    "It's quite straight forward to calculate the accuracy for each model. You can use the `.score()` method associated with each model object by providing the input design matrix and the observed output column vector."
   ]
  },
  {
   "cell_type": "code",
   "execution_count": 56,
   "metadata": {
    "scrolled": true
   },
   "outputs": [
    {
     "data": {
      "text/plain": [
       "0.68"
      ]
     },
     "execution_count": 56,
     "metadata": {},
     "output_type": "execute_result"
    }
   ],
   "source": [
    "#linear model score\n",
    "mdl.score(Xl,np.ravel(yl))"
   ]
  },
  {
   "cell_type": "code",
   "execution_count": 57,
   "metadata": {
    "scrolled": true
   },
   "outputs": [
    {
     "data": {
      "text/plain": [
       "0.72"
      ]
     },
     "execution_count": 57,
     "metadata": {},
     "output_type": "execute_result"
    }
   ],
   "source": [
    "#cubic model score\n",
    "cmdl.score(xc,np.ravel(yc))"
   ]
  },
  {
   "cell_type": "code",
   "execution_count": 58,
   "metadata": {},
   "outputs": [
    {
     "data": {
      "text/plain": [
       "0.72"
      ]
     },
     "execution_count": 58,
     "metadata": {},
     "output_type": "execute_result"
    }
   ],
   "source": [
    "#seventh nomial model score\n",
    "smdl.score(xs,np.ravel(ys))"
   ]
  },
  {
   "cell_type": "markdown",
   "metadata": {},
   "source": [
    "The highest accuracy from all the models seems to be both cubic and seventh nomial model where both score 0.72, where as the linear model had a lower accurac score."
   ]
  },
  {
   "cell_type": "markdown",
   "metadata": {},
   "source": [
    "### 3b)\n",
    "We need to predict the training set and store the predicted probability of the event in order to calculate the ROC and calibration curves. With scikit-learn the class probabilities are returned with the `.predict_proba()` method. You can check which class corresponds to which column in the output from `.predict_proba()` by using the `.classes_` attribute associated with the model object."
   ]
  },
  {
   "cell_type": "code",
   "execution_count": 74,
   "metadata": {},
   "outputs": [
    {
     "data": {
      "text/plain": [
       "(50, 2)"
      ]
     },
     "execution_count": 74,
     "metadata": {},
     "output_type": "execute_result"
    }
   ],
   "source": [
    "#linear model \n",
    "linpred = mdl.predict_proba(Xl)\n",
    "linpred.shape\n",
    "#print(linpred)"
   ]
  },
  {
   "cell_type": "code",
   "execution_count": 75,
   "metadata": {},
   "outputs": [
    {
     "data": {
      "text/plain": [
       "(50, 2)"
      ]
     },
     "execution_count": 75,
     "metadata": {},
     "output_type": "execute_result"
    }
   ],
   "source": [
    "#cubic model\n",
    "cubpred = cmdl.predict_proba(xc)\n",
    "cubpred.shape\n",
    "#print(cubpred)"
   ]
  },
  {
   "cell_type": "code",
   "execution_count": 76,
   "metadata": {},
   "outputs": [
    {
     "data": {
      "text/plain": [
       "(50, 2)"
      ]
     },
     "execution_count": 76,
     "metadata": {},
     "output_type": "execute_result"
    }
   ],
   "source": [
    "#seventh polynomial\n",
    "svpred = smdl.predict_proba(xs)\n",
    "svpred.shape\n",
    "#print(svpred)"
   ]
  },
  {
   "cell_type": "markdown",
   "metadata": {},
   "source": [
    "All the model seems to return the same amount of column of (50,2), the two column indicated that probability for the target (0 and 1) in array form. The number of probabilities for each row is equal to the number of categories in target variables."
   ]
  },
  {
   "cell_type": "markdown",
   "metadata": {},
   "source": [
    "### 3c)\n",
    "You can use the `metrics.roc_curve()` function to calculate the True Positive Rate (TPR) and False Positive Rate (FPR). We just have to supply the observed class, and the predicted probabilities for the \"Positive\" class. Be careful about assigning which variable to the arguments to `metrics.roc_curve()`."
   ]
  },
  {
   "cell_type": "code",
   "execution_count": 87,
   "metadata": {
    "collapsed": true
   },
   "outputs": [
    {
     "data": {
      "text/plain": [
       "(array([0.        , 0.        , 0.03703704, 0.03703704, 0.11111111,\n",
       "        0.11111111, 0.14814815, 0.14814815, 0.22222222, 0.22222222,\n",
       "        0.25925926, 0.25925926, 0.2962963 , 0.2962963 , 0.37037037,\n",
       "        0.37037037, 0.44444444, 0.44444444, 0.62962963, 0.62962963,\n",
       "        0.96296296, 0.96296296, 1.        ]),\n",
       " array([0.        , 0.04347826, 0.04347826, 0.2173913 , 0.2173913 ,\n",
       "        0.39130435, 0.39130435, 0.43478261, 0.43478261, 0.60869565,\n",
       "        0.60869565, 0.69565217, 0.69565217, 0.7826087 , 0.7826087 ,\n",
       "        0.82608696, 0.82608696, 0.91304348, 0.91304348, 0.95652174,\n",
       "        0.95652174, 1.        , 1.        ]),\n",
       " array([1.87389628, 0.87389628, 0.8468467 , 0.73167462, 0.67118864,\n",
       "        0.62956636, 0.6264736 , 0.61294213, 0.60710887, 0.51485025,\n",
       "        0.51129049, 0.47841893, 0.46093027, 0.45863142, 0.43726821,\n",
       "        0.42911554, 0.41706804, 0.35046942, 0.27598473, 0.2704326 ,\n",
       "        0.14057741, 0.1280101 , 0.08032901]))"
      ]
     },
     "execution_count": 87,
     "metadata": {},
     "output_type": "execute_result"
    }
   ],
   "source": [
    "#linear model\n",
    "lfpr, ltpr, lthresholds = metrics.roc_curve(yl['y'].to_numpy(),linpred[:,1])\n",
    "#print the result\n",
    "lfpr,ltpr,lthresholds"
   ]
  },
  {
   "cell_type": "markdown",
   "metadata": {},
   "source": [
    "### 3d)"
   ]
  },
  {
   "cell_type": "code",
   "execution_count": 90,
   "metadata": {
    "collapsed": true
   },
   "outputs": [
    {
     "data": {
      "text/plain": [
       "(array([0.        , 0.        , 0.        , 0.11111111, 0.11111111,\n",
       "        0.14814815, 0.14814815, 0.22222222, 0.22222222, 0.25925926,\n",
       "        0.25925926, 0.2962963 , 0.2962963 , 0.37037037, 0.37037037,\n",
       "        0.44444444, 0.44444444, 0.62962963, 0.62962963, 0.96296296,\n",
       "        0.96296296, 1.        ]),\n",
       " array([0.        , 0.04347826, 0.17391304, 0.17391304, 0.39130435,\n",
       "        0.39130435, 0.43478261, 0.43478261, 0.60869565, 0.60869565,\n",
       "        0.69565217, 0.69565217, 0.7826087 , 0.7826087 , 0.82608696,\n",
       "        0.82608696, 0.91304348, 0.91304348, 0.95652174, 0.95652174,\n",
       "        1.        , 1.        ]),\n",
       " array([1.7090527 , 0.7090527 , 0.70068641, 0.67362182, 0.64736952,\n",
       "        0.6452055 , 0.6354115 , 0.63102922, 0.55007932, 0.54655588,\n",
       "        0.51279698, 0.4940018 , 0.49149163, 0.4677585 , 0.45852134,\n",
       "        0.44470774, 0.36578121, 0.27636115, 0.26983124, 0.13456909,\n",
       "        0.12427902, 0.09353137]))"
      ]
     },
     "execution_count": 90,
     "metadata": {},
     "output_type": "execute_result"
    }
   ],
   "source": [
    "#cubic model \n",
    "cfpr, ctpr, cthresholds = metrics.roc_curve(yc['y'].to_numpy(),cubpred[:,1])\n",
    "#print the result\n",
    "cfpr, ctpr, cthresholds "
   ]
  },
  {
   "cell_type": "code",
   "execution_count": 91,
   "metadata": {
    "collapsed": true
   },
   "outputs": [
    {
     "data": {
      "text/plain": [
       "(array([0.        , 0.        , 0.03703704, 0.03703704, 0.07407407,\n",
       "        0.07407407, 0.11111111, 0.11111111, 0.18518519, 0.18518519,\n",
       "        0.22222222, 0.22222222, 0.25925926, 0.25925926, 0.37037037,\n",
       "        0.37037037, 0.44444444, 0.44444444, 0.66666667, 0.66666667,\n",
       "        1.        ]),\n",
       " array([0.        , 0.04347826, 0.04347826, 0.08695652, 0.08695652,\n",
       "        0.30434783, 0.30434783, 0.34782609, 0.34782609, 0.60869565,\n",
       "        0.60869565, 0.69565217, 0.69565217, 0.7826087 , 0.7826087 ,\n",
       "        0.82608696, 0.82608696, 0.95652174, 0.95652174, 1.        ,\n",
       "        1.        ]),\n",
       " array([1.83548889, 0.83548889, 0.7072334 , 0.70555117, 0.69994798,\n",
       "        0.66995988, 0.66738044, 0.65581994, 0.65074156, 0.57070395,\n",
       "        0.56760569, 0.53765757, 0.52006208, 0.51762665, 0.49330813,\n",
       "        0.48311121, 0.46698018, 0.35128548, 0.20177124, 0.19220698,\n",
       "        0.05770169]))"
      ]
     },
     "execution_count": 91,
     "metadata": {},
     "output_type": "execute_result"
    }
   ],
   "source": [
    "#seventh polynomial\n",
    "sfpr, stpr, sthresholds = metrics.roc_curve(ys['y'].to_numpy(),svpred[:,1])\n",
    "#print the result\n",
    "sfpr, stpr, sthresholds"
   ]
  },
  {
   "cell_type": "markdown",
   "metadata": {},
   "source": [
    "### 3e)"
   ]
  },
  {
   "cell_type": "code",
   "execution_count": 93,
   "metadata": {},
   "outputs": [],
   "source": [
    "#import matplotlib to graph the roc curve\n",
    "import matplotlib.pyplot as plt"
   ]
  },
  {
   "cell_type": "code",
   "execution_count": 117,
   "metadata": {
    "scrolled": true
   },
   "outputs": [
    {
     "data": {
      "text/plain": [
       "[<matplotlib.lines.Line2D at 0x19184c0cfc8>]"
      ]
     },
     "execution_count": 117,
     "metadata": {},
     "output_type": "execute_result"
    },
    {
     "data": {
      "image/png": "[encoded data removed]",
      "text/plain": [
       "<Figure size 432x288 with 1 Axes>"
      ]
     },
     "metadata": {
      "needs_background": "light"
     },
     "output_type": "display_data"
    }
   ],
   "source": [
    "#linear roc curve\n",
    "plt.title(\"Linear ROC Curve\")\n",
    "plt.xlabel(\"FBR\")\n",
    "plt.ylabel(\"TBR\")\n",
    "plt.plot(lfpr,ltpr)"
   ]
  },
  {
   "cell_type": "code",
   "execution_count": 118,
   "metadata": {
    "scrolled": true
   },
   "outputs": [
    {
     "data": {
      "text/plain": [
       "[<matplotlib.lines.Line2D at 0x19184c7c7c8>]"
      ]
     },
     "execution_count": 118,
     "metadata": {},
     "output_type": "execute_result"
    },
    {
     "data": {
      "image/png": "[encoded data removed]",
      "text/plain": [
       "<Figure size 432x288 with 1 Axes>"
      ]
     },
     "metadata": {
      "needs_background": "light"
     },
     "output_type": "display_data"
    }
   ],
   "source": [
    "#cubic roc curve\n",
    "plt.title(\"Cubic ROC Curve\")\n",
    "plt.xlabel(\"FBR\")\n",
    "plt.ylabel(\"TBR\")\n",
    "plt.plot(cfpr,ctpr)"
   ]
  },
  {
   "cell_type": "code",
   "execution_count": 119,
   "metadata": {},
   "outputs": [
    {
     "data": {
      "text/plain": [
       "[<matplotlib.lines.Line2D at 0x19183b29f48>]"
      ]
     },
     "execution_count": 119,
     "metadata": {},
     "output_type": "execute_result"
    },
    {
     "data": {
      "image/png": "[encoded data removed]",
      "text/plain": [
       "<Figure size 432x288 with 1 Axes>"
      ]
     },
     "metadata": {
      "needs_background": "light"
     },
     "output_type": "display_data"
    }
   ],
   "source": [
    "#seventh polynomial roc curve\n",
    "plt.title(\"Seventh ROC curve\")\n",
    "plt.xlabel(\"FBR\")\n",
    "plt.ylabel(\"TBR\")\n",
    "plt.plot(sfpr,stpr)"
   ]
  },
  {
   "cell_type": "markdown",
   "metadata": {},
   "source": [
    "### 3f)\n",
    "The Area Under the Curve (AUC) values can be calculated with the `metrics.roc_auc_score()` function. Be careful about the ordering.  "
   ]
  },
  {
   "cell_type": "code",
   "execution_count": 104,
   "metadata": {},
   "outputs": [],
   "source": [
    "#linear model auc curve\n",
    "lin_auc = metrics.roc_auc_score(yl['y'].to_numpy(),linpred[:,1])\n",
    "#cubic model auc curve\n",
    "cub_auc = metrics.roc_auc_score(yc['y'].to_numpy(),cubpred[:,1])\n",
    "#seventh polynomial model auc curve\n",
    "sev_auc = metrics.roc_auc_score(ys['y'].to_numpy(),svpred[:,1])"
   ]
  },
  {
   "cell_type": "code",
   "execution_count": 123,
   "metadata": {
    "collapsed": true
   },
   "outputs": [
    {
     "name": "stdout",
     "output_type": "stream",
     "text": [
      "AUC_SCORE for linar model: 0.7568438003220611\n",
      "AUC_SCORE for cubic model: 0.7584541062801932\n",
      "AUC_SCORE for seven model: 0.784219001610306\n",
      "It seems that the seventh polynomial model has the highest auc score\n"
     ]
    }
   ],
   "source": [
    "#display the auc score\n",
    "print(\"AUC_SCORE for linar model:\", lin_auc)\n",
    "print(\"AUC_SCORE for cubic model:\", cub_auc)\n",
    "print(\"AUC_SCORE for seven model:\", sev_auc)\n",
    "print(\"It seems that the seventh polynomial model has the highest auc score\")"
   ]
  },
  {
   "cell_type": "markdown",
   "metadata": {},
   "source": [
    "### 3g)\n",
    "The information necessary to create the calibration is determined by using the `calibration_curve()` function, which has been imported in for you."
   ]
  },
  {
   "cell_type": "code",
   "execution_count": 129,
   "metadata": {},
   "outputs": [],
   "source": [
    "#calibration curve for linear model\n",
    "lin_cal = calibration_curve(yl['y'].to_numpy(),linpred[:,1], n_bins = 5)\n",
    "#calibration curve for cubic model\n",
    "cub_cal = calibration_curve(yc['y'].to_numpy(),cubpred[:,1], n_bins = 5)\n",
    "#calibration curve for seventh polynomial model\n",
    "sev_cal = calibration_curve(ys['y'].to_numpy(),svpred[:,1], n_bins = 5)"
   ]
  },
  {
   "cell_type": "code",
   "execution_count": 131,
   "metadata": {
    "scrolled": true
   },
   "outputs": [
    {
     "data": {
      "text/plain": [
       "[<matplotlib.lines.Line2D at 0x19184dd6f88>]"
      ]
     },
     "execution_count": 131,
     "metadata": {},
     "output_type": "execute_result"
    },
    {
     "data": {
      "image/png": "[encoded data removed]",
      "text/plain": [
       "<Figure size 432x288 with 1 Axes>"
      ]
     },
     "metadata": {
      "needs_background": "light"
     },
     "output_type": "display_data"
    }
   ],
   "source": [
    "#calibration curve for linear model\n",
    "plt.title(\"Calibration curve for linear model\")\n",
    "plt.xlabel(\"Pred\")\n",
    "plt.ylabel(\"True\")\n",
    "plt.plot(lin_cal[1],lin_cal[0], linestyle = '-', marker = 'o')"
   ]
  },
  {
   "cell_type": "code",
   "execution_count": 132,
   "metadata": {},
   "outputs": [
    {
     "data": {
      "text/plain": [
       "[<matplotlib.lines.Line2D at 0x19184e3b588>]"
      ]
     },
     "execution_count": 132,
     "metadata": {},
     "output_type": "execute_result"
    },
    {
     "data": {
      "image/png": "[encoded data removed]",
      "text/plain": [
       "<Figure size 432x288 with 1 Axes>"
      ]
     },
     "metadata": {
      "needs_background": "light"
     },
     "output_type": "display_data"
    }
   ],
   "source": [
    "#calibration curve for linear model\n",
    "plt.title(\"Calibration curve for cubic model\")\n",
    "plt.xlabel(\"Pred\")\n",
    "plt.ylabel(\"True\")\n",
    "plt.plot(cub_cal[1], cub_cal[0], linestyle = '-', marker = 'o')"
   ]
  },
  {
   "cell_type": "code",
   "execution_count": 133,
   "metadata": {},
   "outputs": [
    {
     "data": {
      "text/plain": [
       "[<matplotlib.lines.Line2D at 0x19184e96708>]"
      ]
     },
     "execution_count": 133,
     "metadata": {},
     "output_type": "execute_result"
    },
    {
     "data": {
      "image/png": "[encoded data removed]",
      "text/plain": [
       "<Figure size 432x288 with 1 Axes>"
      ]
     },
     "metadata": {
      "needs_background": "light"
     },
     "output_type": "display_data"
    }
   ],
   "source": [
    "#calibration curve for seventh polynomial model\n",
    "plt.title(\"Calibration curve for seventh polynomial model\")\n",
    "plt.xlabel(\"Pred\")\n",
    "plt.ylabel(\"True\")\n",
    "plt.plot(sev_cal[1],sev_cal[0], linestyle = '-', marker = 'o')"
   ]
  },
  {
   "cell_type": "markdown",
   "metadata": {},
   "source": [
    "### 3h)\n",
    "The Brier score can be calculated with the `metrics.brier_score_loss()` function. We supply the observed output and the predicted probability for the \"Positive\" class."
   ]
  },
  {
   "cell_type": "code",
   "execution_count": 137,
   "metadata": {},
   "outputs": [],
   "source": [
    "#linear brier score\n",
    "lin_bsc = metrics.brier_score_loss(yl['y'].to_numpy(),linpred[:,1])\n",
    "#cubic brier score\n",
    "cub_bsc = metrics.brier_score_loss(yc['y'].to_numpy(),cubpred[:,1])\n",
    "#seventh brier score\n",
    "sev_bsc = metrics.brier_score_loss(ys['y'].to_numpy(),svpred[:,1])"
   ]
  },
  {
   "cell_type": "code",
   "execution_count": 141,
   "metadata": {},
   "outputs": [
    {
     "name": "stdout",
     "output_type": "stream",
     "text": [
      "Linear Brier score:  0.20443546706760252\n",
      "Cubic Brier Score:  0.20107151691822728\n",
      "Seventh Brier score:  0.18920162307490002\n",
      "The seventh polynomial has the lowest brier score that shows ROC and AUC score which shows that has the best model\n"
     ]
    }
   ],
   "source": [
    "#Result for brier score\n",
    "print(\"Linear Brier score: \", lin_bsc)\n",
    "print(\"Cubic Brier Score: \", cub_bsc)\n",
    "print(\"Seventh Brier score: \", sev_bsc)\n",
    "print(\"The seventh polynomial has the lowest brier score that shows ROC and AUC score which shows that has the best model\")"
   ]
  },
  {
   "cell_type": "markdown",
   "metadata": {},
   "source": [
    "## Problem 04 (20 points)\n",
    "The three models were compared multiple ways in Problem 03, but only based on the training set. In this problem we will repeat the actions in Problem 03, but using a new held-out data set. That data set is loaded in the cell below. The test set has the format as the training set, consisting of a single input `x` and binary outcome `y`."
   ]
  },
  {
   "cell_type": "code",
   "execution_count": 142,
   "metadata": {},
   "outputs": [
    {
     "name": "stdout",
     "output_type": "stream",
     "text": [
      "<class 'pandas.core.frame.DataFrame'>\n",
      "RangeIndex: 50 entries, 0 to 49\n",
      "Data columns (total 2 columns):\n",
      "x    50 non-null float64\n",
      "y    50 non-null int64\n",
      "dtypes: float64(1), int64(1)\n",
      "memory usage: 928.0 bytes\n",
      "None\n"
     ]
    }
   ],
   "source": [
    "test_url = 'https://raw.githubusercontent.com/jyurko/INFSCI_1040_Spring_2020/master/hw_data/hw_02/test_set.csv'\n",
    "test_df = pd.read_csv(test_url)\n",
    "\n",
    "print( test_df.info() )"
   ]
  },
  {
   "cell_type": "markdown",
   "metadata": {},
   "source": [
    "### 4a)\n",
    "Create the necessary test design matrices using the `test_df` data set."
   ]
  },
  {
   "cell_type": "code",
   "execution_count": 180,
   "metadata": {},
   "outputs": [],
   "source": [
    "#create a new dataframe so we can cube X\n",
    "tri = test_df[['x','y']].copy()\n",
    "tri = tri.rename(columns = {'x':'x3','y':'y'})\n",
    "#cube the value\n",
    "trip['x3']=np.power(cbdf['x3'],3)\n",
    "########################################\n",
    "#create a new dataframe so we can square x\n",
    "doub = test_df[['x','y']].copy()\n",
    "doub = doub.rename(columns = {'x':'x2','y':'y'})\n",
    "#square the x value \n",
    "doub['x2'] = np.power(sqr['x2'],2)"
   ]
  },
  {
   "cell_type": "code",
   "execution_count": 186,
   "metadata": {},
   "outputs": [],
   "source": [
    "#Since there is going to be four unknown parameter we need a new dataframe\n",
    "trip = test_df[['x','y']].copy()\n",
    "#adding the cubic and square into the new dataframe\n",
    "trip['x2'] = sq['x2']\n",
    "trip['x3'] = cu['x3'] \n",
    "#n_df.head()"
   ]
  },
  {
   "cell_type": "code",
   "execution_count": 191,
   "metadata": {},
   "outputs": [],
   "source": [
    "#create a new dataframe for x^7\n",
    "sv = test_df[['x','y']].copy()\n",
    "#x^7\n",
    "sv = sv.rename(columns = {'x':'x7','y':'y'})\n",
    "sv['x7']=np.power(sv['x7'],7)\n",
    "########################################\n",
    "#create a new dataframe for x^6\n",
    "sx = test_df[['x','y']].copy()\n",
    "#x^6\n",
    "sx = sx.rename(columns = {'x':'x6','y':'y'})\n",
    "sx['x6']=np.power(sx['x6'],6)\n",
    "########################################\n",
    "#create a new dataframe so we can x^5\n",
    "fi = test_df[['x','y']].copy()\n",
    "#x^5\n",
    "fi = fi.rename(columns = {'x':'x5','y':'y'})\n",
    "fi['x5']=np.power(fi['x5'],5)\n",
    "########################################\n",
    "#create a new dataframe for x^4\n",
    "fo = test_df[['x','y']].copy()\n",
    "fo = fo.rename(columns = {'x':'x4','y':'y'})\n",
    "#x^4\n",
    "fo['x4'] = np.power(fo['x4'],4)"
   ]
  },
  {
   "cell_type": "code",
   "execution_count": 200,
   "metadata": {},
   "outputs": [],
   "source": [
    "#adding all the polynomial to the dataframe\n",
    "svn = trip[['x','y','x2','x3']].copy()\n",
    "svn['x4'] = fo['x4'] \n",
    "svn['x5'] = fi['x5']\n",
    "svn['x6'] = sx['x6']\n",
    "svn['x7'] = sv['x7']"
   ]
  },
  {
   "cell_type": "code",
   "execution_count": 210,
   "metadata": {},
   "outputs": [],
   "source": [
    "#design marix for linear\n",
    "ylin, xlin = dmatrices('y~x-1', data = test_df, return_type = 'dataframe')"
   ]
  },
  {
   "cell_type": "code",
   "execution_count": 211,
   "metadata": {},
   "outputs": [],
   "source": [
    "#design matrix for cubic \n",
    "ytrip, xtrip = dmatrices('y~x+x2+x3-1', data = trip, return_type = 'dataframe')"
   ]
  },
  {
   "cell_type": "code",
   "execution_count": 212,
   "metadata": {},
   "outputs": [],
   "source": [
    "#design matrix for seven\n",
    "ysvn, xsvn = dmatrices('y~x+x2+x3+x4+x5+x6+x7-1', data = svn, return_type = 'dataframe')"
   ]
  },
  {
   "cell_type": "markdown",
   "metadata": {},
   "source": [
    "### 4b)"
   ]
  },
  {
   "cell_type": "code",
   "execution_count": 217,
   "metadata": {},
   "outputs": [
    {
     "data": {
      "text/plain": [
       "LogisticRegression(C=1.0, class_weight=None, dual=False, fit_intercept=True,\n",
       "                   intercept_scaling=1, l1_ratio=None, max_iter=100,\n",
       "                   multi_class='warn', n_jobs=None, penalty='l2',\n",
       "                   random_state=None, solver='lbfgs', tol=0.0001, verbose=0,\n",
       "                   warm_start=False)"
      ]
     },
     "execution_count": 217,
     "metadata": {},
     "output_type": "execute_result"
    }
   ],
   "source": [
    "#logisitc regression for line model\n",
    "linlog = LogisticRegression(solver = 'lbfgs')\n",
    "linlog.fit(xlin, np.ravel(ylin))\n",
    "#logisitc regression for cube\n",
    "cublog = LogisticRegression(solver = 'lbfgs')\n",
    "cublog.fit(xtrip, np.ravel(ytrip))\n",
    "#logisitc regression for sev\n",
    "sevlog = LogisticRegression(solver = 'lbfgs')\n",
    "sevlog.fit(xsvn, np.ravel(ysvn))"
   ]
  },
  {
   "cell_type": "code",
   "execution_count": 219,
   "metadata": {},
   "outputs": [],
   "source": [
    "linscore = linlog.score(xlin, np.ravel(ylin))\n",
    "cubscore = cublog.score(xtrip, np.ravel(ytrip))\n",
    "sevscore = sevlog.score(xsvn, np.ravel(ysvn))"
   ]
  },
  {
   "cell_type": "code",
   "execution_count": 221,
   "metadata": {},
   "outputs": [
    {
     "name": "stdout",
     "output_type": "stream",
     "text": [
      "linear:  0.7\n",
      "cubic:  0.74\n",
      "seven:  0.78\n",
      "the best result is model seven as it scored 0.78\n"
     ]
    }
   ],
   "source": [
    "print(\"linear: \", linscore)\n",
    "print(\"cubic: \", cubscore)\n",
    "print(\"seven: \", sevscore)\n",
    "\n",
    "print(\"the best result is model seven as it scored 0.78\")"
   ]
  },
  {
   "cell_type": "markdown",
   "metadata": {},
   "source": [
    "### 4c)"
   ]
  },
  {
   "cell_type": "code",
   "execution_count": 224,
   "metadata": {},
   "outputs": [
    {
     "data": {
      "text/plain": [
       "(array([0.        , 0.        , 0.        , 0.03703704, 0.03703704,\n",
       "        0.07407407, 0.07407407, 0.11111111, 0.11111111, 0.14814815,\n",
       "        0.14814815, 0.18518519, 0.18518519, 0.25925926, 0.25925926,\n",
       "        0.2962963 , 0.2962963 , 0.33333333, 0.33333333, 0.48148148,\n",
       "        0.48148148, 0.55555556, 0.55555556, 0.85185185, 0.85185185,\n",
       "        1.        ]),\n",
       " array([0.        , 0.04347826, 0.17391304, 0.17391304, 0.34782609,\n",
       "        0.34782609, 0.43478261, 0.43478261, 0.47826087, 0.47826087,\n",
       "        0.52173913, 0.52173913, 0.60869565, 0.60869565, 0.73913043,\n",
       "        0.73913043, 0.7826087 , 0.7826087 , 0.82608696, 0.82608696,\n",
       "        0.91304348, 0.91304348, 0.95652174, 0.95652174, 1.        ,\n",
       "        1.        ]),\n",
       " array([1.91115062, 0.91115062, 0.87969086, 0.78584139, 0.68533544,\n",
       "        0.67243585, 0.64692077, 0.62904319, 0.61392361, 0.59728233,\n",
       "        0.59134104, 0.59115796, 0.5521481 , 0.53158995, 0.4627047 ,\n",
       "        0.45632599, 0.45366694, 0.44358527, 0.44016901, 0.3789263 ,\n",
       "        0.30868904, 0.28211952, 0.2813823 , 0.16832378, 0.1485291 ,\n",
       "        0.0375804 ]))"
      ]
     },
     "execution_count": 224,
     "metadata": {},
     "output_type": "execute_result"
    }
   ],
   "source": [
    "#linear\n",
    "ofpr, otpr, othreshold = metrics.roc_curve(ylin['y'].to_numpy(),linlog.predict_proba(xlin)[:,1])\n",
    "ofpr, otpr, othreshold"
   ]
  },
  {
   "cell_type": "code",
   "execution_count": 232,
   "metadata": {},
   "outputs": [
    {
     "data": {
      "text/plain": [
       "(array([0.        , 0.        , 0.        , 0.03703704, 0.03703704,\n",
       "        0.07407407, 0.07407407, 0.11111111, 0.11111111, 0.18518519,\n",
       "        0.18518519, 0.22222222, 0.22222222, 0.33333333, 0.33333333,\n",
       "        0.40740741, 0.40740741, 0.48148148, 0.48148148, 0.51851852,\n",
       "        0.51851852, 0.85185185, 0.85185185, 1.        ]),\n",
       " array([0.        , 0.04347826, 0.13043478, 0.13043478, 0.39130435,\n",
       "        0.39130435, 0.47826087, 0.47826087, 0.60869565, 0.60869565,\n",
       "        0.69565217, 0.69565217, 0.7826087 , 0.7826087 , 0.82608696,\n",
       "        0.82608696, 0.86956522, 0.86956522, 0.91304348, 0.91304348,\n",
       "        0.95652174, 0.95652174, 1.        , 1.        ]),\n",
       " array([1.94046695, 0.94046695, 0.86367387, 0.82836749, 0.69271797,\n",
       "        0.69227118, 0.65576664, 0.62814635, 0.57362085, 0.52168484,\n",
       "        0.51072577, 0.5032931 , 0.46935288, 0.4536038 , 0.44848118,\n",
       "        0.44524422, 0.41179546, 0.3779981 , 0.34459411, 0.31255065,\n",
       "        0.29753053, 0.15593196, 0.12744161, 0.01882487]))"
      ]
     },
     "execution_count": 232,
     "metadata": {},
     "output_type": "execute_result"
    }
   ],
   "source": [
    "#Cubic\n",
    "tfpr, ttpr, tthreshold = metrics.roc_curve(ytrip['y'].to_numpy(),cublog.predict_proba(xtrip)[:,1])\n",
    "tfpr, ttpr, tthreshold"
   ]
  },
  {
   "cell_type": "code",
   "execution_count": 233,
   "metadata": {
    "scrolled": true
   },
   "outputs": [
    {
     "data": {
      "text/plain": [
       "(array([0.        , 0.        , 0.        , 0.03703704, 0.03703704,\n",
       "        0.07407407, 0.07407407, 0.11111111, 0.11111111, 0.14814815,\n",
       "        0.14814815, 0.2962963 , 0.2962963 , 0.33333333, 0.33333333,\n",
       "        0.40740741, 0.40740741, 0.85185185, 0.85185185, 1.        ]),\n",
       " array([0.        , 0.04347826, 0.17391304, 0.17391304, 0.39130435,\n",
       "        0.39130435, 0.43478261, 0.43478261, 0.47826087, 0.47826087,\n",
       "        0.73913043, 0.73913043, 0.7826087 , 0.7826087 , 0.82608696,\n",
       "        0.82608696, 0.95652174, 0.95652174, 1.        , 1.        ]),\n",
       " array([1.99999971e+00, 9.99999714e-01, 9.85671635e-01, 7.72294808e-01,\n",
       "        6.72735393e-01, 6.71791988e-01, 6.46302000e-01, 6.25562340e-01,\n",
       "        6.18127505e-01, 5.82940677e-01, 4.88536680e-01, 4.63892940e-01,\n",
       "        4.61092657e-01, 4.42931675e-01, 4.30529038e-01, 4.13859894e-01,\n",
       "        3.39655042e-01, 1.78129279e-01, 1.51297831e-01, 9.06260254e-23]))"
      ]
     },
     "execution_count": 233,
     "metadata": {},
     "output_type": "execute_result"
    }
   ],
   "source": [
    "#seventh\n",
    "vfpr, vtpr, vthreshold = metrics.roc_curve(ysvn['y'].to_numpy(),sevlog.predict_proba(xsvn)[:,1])\n",
    "vfpr, vtpr, vthreshold"
   ]
  },
  {
   "cell_type": "code",
   "execution_count": 234,
   "metadata": {},
   "outputs": [
    {
     "data": {
      "text/plain": [
       "[<matplotlib.lines.Line2D at 0x191850cecc8>]"
      ]
     },
     "execution_count": 234,
     "metadata": {},
     "output_type": "execute_result"
    },
    {
     "data": {
      "image/png": "[encoded data removed]",
      "text/plain": [
       "<Figure size 432x288 with 1 Axes>"
      ]
     },
     "metadata": {
      "needs_background": "light"
     },
     "output_type": "display_data"
    }
   ],
   "source": [
    "#roc linear\n",
    "plt.title(\"Linear\")\n",
    "plt.xlabel(\"FPR\")\n",
    "plt.ylabel(\"TPR\")\n",
    "plt.plot(ofpr, otpr)"
   ]
  },
  {
   "cell_type": "code",
   "execution_count": 235,
   "metadata": {},
   "outputs": [
    {
     "data": {
      "text/plain": [
       "[<matplotlib.lines.Line2D at 0x19184f273c8>]"
      ]
     },
     "execution_count": 235,
     "metadata": {},
     "output_type": "execute_result"
    },
    {
     "data": {
      "image/png": "[encoded data removed]",
      "text/plain": [
       "<Figure size 432x288 with 1 Axes>"
      ]
     },
     "metadata": {
      "needs_background": "light"
     },
     "output_type": "display_data"
    }
   ],
   "source": [
    "#cubic roc\n",
    "plt.title(\"cubic\")\n",
    "plt.xlabel(\"FPR\")\n",
    "plt.ylabel(\"TPR\")\n",
    "plt.plot(tfpr, ttpr)"
   ]
  },
  {
   "cell_type": "code",
   "execution_count": 237,
   "metadata": {},
   "outputs": [
    {
     "data": {
      "text/plain": [
       "[<matplotlib.lines.Line2D at 0x191851dc288>]"
      ]
     },
     "execution_count": 237,
     "metadata": {},
     "output_type": "execute_result"
    },
    {
     "data": {
      "image/png": "[encoded data removed]",
      "text/plain": [
       "<Figure size 432x288 with 1 Axes>"
      ]
     },
     "metadata": {
      "needs_background": "light"
     },
     "output_type": "display_data"
    }
   ],
   "source": [
    "#seventh polynomial\n",
    "plt.title(\"seven\")\n",
    "plt.xlabel(\"FPR\")\n",
    "plt.ylabel(\"TPR\")\n",
    "plt.plot(vfpr, vtpr)"
   ]
  },
  {
   "cell_type": "markdown",
   "metadata": {},
   "source": [
    "### 4d)"
   ]
  },
  {
   "cell_type": "code",
   "execution_count": 239,
   "metadata": {},
   "outputs": [],
   "source": [
    "clinf = calibration_curve(ylin['y'].to_numpy(),linlog.predict_proba(xlin)[:,1])\n",
    "ccubf = calibration_curve(ytrip['y'].to_numpy(),cublog.predict_proba(xtrip)[:,1])\n",
    "csevf = calibration_curve(ysvn['y'].to_numpy(),sevlog.predict_proba(xsvn)[:,1])"
   ]
  },
  {
   "cell_type": "code",
   "execution_count": 240,
   "metadata": {},
   "outputs": [
    {
     "data": {
      "text/plain": [
       "[<matplotlib.lines.Line2D at 0x19185241bc8>]"
      ]
     },
     "execution_count": 240,
     "metadata": {},
     "output_type": "execute_result"
    },
    {
     "data": {
      "image/png": "[encoded data removed]",
      "text/plain": [
       "<Figure size 432x288 with 1 Axes>"
      ]
     },
     "metadata": {
      "needs_background": "light"
     },
     "output_type": "display_data"
    }
   ],
   "source": [
    "# Model 1 \n",
    "plt.title(\"Linear\")\n",
    "plt.xlabel(\"PRED\")\n",
    "plt.ylabel(\"TRUE\")\n",
    "plt.plot( clinf[1],clinf[0], linestyle='-', marker='o')"
   ]
  },
  {
   "cell_type": "code",
   "execution_count": 241,
   "metadata": {},
   "outputs": [
    {
     "data": {
      "text/plain": [
       "[<matplotlib.lines.Line2D at 0x191851e8548>]"
      ]
     },
     "execution_count": 241,
     "metadata": {},
     "output_type": "execute_result"
    },
    {
     "data": {
      "image/png": "[encoded data removed]",
      "text/plain": [
       "<Figure size 432x288 with 1 Axes>"
      ]
     },
     "metadata": {
      "needs_background": "light"
     },
     "output_type": "display_data"
    }
   ],
   "source": [
    "# Model 2 \n",
    "plt.title(\"Cubic\")\n",
    "plt.xlabel(\"PRED\")\n",
    "plt.ylabel(\"TRUE\")\n",
    "plt.plot( ccubf[1],ccubf[0], linestyle='-', marker='o')"
   ]
  },
  {
   "cell_type": "code",
   "execution_count": 242,
   "metadata": {},
   "outputs": [
    {
     "data": {
      "text/plain": [
       "[<matplotlib.lines.Line2D at 0x1918530f5c8>]"
      ]
     },
     "execution_count": 242,
     "metadata": {},
     "output_type": "execute_result"
    },
    {
     "data": {
      "image/png": "[encoded data removed]",
      "text/plain": [
       "<Figure size 432x288 with 1 Axes>"
      ]
     },
     "metadata": {
      "needs_background": "light"
     },
     "output_type": "display_data"
    }
   ],
   "source": [
    "# Model 3 \n",
    "plt.title(\"SEVENTH\")\n",
    "plt.xlabel(\"PRED\")\n",
    "plt.ylabel(\"TRUE\")\n",
    "plt.plot( csevf[1],csevf[0], linestyle='-', marker='o')"
   ]
  },
  {
   "cell_type": "markdown",
   "metadata": {},
   "source": [
    "### 4e)"
   ]
  },
  {
   "cell_type": "code",
   "execution_count": 246,
   "metadata": {},
   "outputs": [
    {
     "name": "stdout",
     "output_type": "stream",
     "text": [
      "AUC Score for Linear 0.7954911433172303\n",
      "AUC Score for Cubic 0.821256038647343\n",
      "AUC Score for Seventh 0.8276972624798712\n"
     ]
    }
   ],
   "source": [
    "auclinf = metrics.roc_auc_score(ylin['y'].to_numpy(),linlog.predict_proba(xlin)[:,1])\n",
    "auccubf = metrics.roc_auc_score(ytrip['y'].to_numpy(),cublog.predict_proba(xtrip)[:,1])\n",
    "aucsvnf = metrics.roc_auc_score(ysvn['y'].to_numpy(),sevlog.predict_proba(xsvn)[:,1])\n",
    "\n",
    "print(\"AUC Score for Linear\", auclinf)\n",
    "print(\"AUC Score for Cubic\", auccubf)\n",
    "print(\"AUC Score for Seventh\", aucsvnf)"
   ]
  },
  {
   "cell_type": "code",
   "execution_count": 249,
   "metadata": {
    "scrolled": true
   },
   "outputs": [
    {
     "name": "stdout",
     "output_type": "stream",
     "text": [
      "Linear Brier score:  0.18354229662076618\n",
      "Cubic Brier score:  0.17591301193606032\n",
      "Seventh Brier score:  0.1717906726537642\n"
     ]
    }
   ],
   "source": [
    "brlinf = metrics.brier_score_loss(ylin['y'].to_numpy(),linlog.predict_proba(xlin)[:,1])\n",
    "brcubf = metrics.brier_score_loss(ytrip['y'].to_numpy(),cublog.predict_proba(xtrip)[:,1])\n",
    "brsvnf = metrics.brier_score_loss(ysvn['y'].to_numpy(),sevlog.predict_proba(xsvn)[:,1])\n",
    "\n",
    "print(\"Linear Brier score: \", brlinf)\n",
    "print(\"Cubic Brier score: \", brcubf)\n",
    "print(\"Seventh Brier score: \", brsvnf)\n"
   ]
  },
  {
   "cell_type": "markdown",
   "metadata": {},
   "source": [
    "Linear has the best brier score where as the Seventh poly has the best auc score"
   ]
  },
  {
   "cell_type": "markdown",
   "metadata": {},
   "source": [
    "## Problem 05 (20 points)\n",
    "You will now use k-fold cross-validation to compare the performance of the 3 models. You will only use the original training set, and will use 5-fold cross-validation. You can use the `cross_val_score()` function to manage the resampling procedure and calculation of the performance metrics. The models will be compared based on their AUC values by setting the `scoring` argument equal to `roc_auc`.  "
   ]
  },
  {
   "cell_type": "code",
   "execution_count": 250,
   "metadata": {},
   "outputs": [],
   "source": [
    "kfold = KFold(n_splits = 5)\n",
    "kmdl = LogisticRegression(C= 1, max_iter = 1001)"
   ]
  },
  {
   "cell_type": "code",
   "execution_count": 258,
   "metadata": {},
   "outputs": [
    {
     "name": "stderr",
     "output_type": "stream",
     "text": [
      "C:\\Users\\qma67\\AppData\\Local\\Continuum\\anaconda3\\lib\\site-packages\\sklearn\\linear_model\\logistic.py:432: FutureWarning: Default solver will be changed to 'lbfgs' in 0.22. Specify a solver to silence this warning.\n",
      "  FutureWarning)\n",
      "C:\\Users\\qma67\\AppData\\Local\\Continuum\\anaconda3\\lib\\site-packages\\sklearn\\linear_model\\logistic.py:432: FutureWarning: Default solver will be changed to 'lbfgs' in 0.22. Specify a solver to silence this warning.\n",
      "  FutureWarning)\n",
      "C:\\Users\\qma67\\AppData\\Local\\Continuum\\anaconda3\\lib\\site-packages\\sklearn\\linear_model\\logistic.py:432: FutureWarning: Default solver will be changed to 'lbfgs' in 0.22. Specify a solver to silence this warning.\n",
      "  FutureWarning)\n",
      "C:\\Users\\qma67\\AppData\\Local\\Continuum\\anaconda3\\lib\\site-packages\\sklearn\\linear_model\\logistic.py:432: FutureWarning: Default solver will be changed to 'lbfgs' in 0.22. Specify a solver to silence this warning.\n",
      "  FutureWarning)\n",
      "C:\\Users\\qma67\\AppData\\Local\\Continuum\\anaconda3\\lib\\site-packages\\sklearn\\linear_model\\logistic.py:432: FutureWarning: Default solver will be changed to 'lbfgs' in 0.22. Specify a solver to silence this warning.\n",
      "  FutureWarning)\n",
      "C:\\Users\\qma67\\AppData\\Local\\Continuum\\anaconda3\\lib\\site-packages\\sklearn\\linear_model\\logistic.py:432: FutureWarning: Default solver will be changed to 'lbfgs' in 0.22. Specify a solver to silence this warning.\n",
      "  FutureWarning)\n"
     ]
    }
   ],
   "source": [
    "#linear kfold\n",
    "kmdl.fit(xlin, np.ravel(ylin))\n",
    "crval = cross_val_score(kmdl,xlin,np.ravel(ylin), cv = kfold, scoring = 'roc_auc')"
   ]
  },
  {
   "cell_type": "code",
   "execution_count": 259,
   "metadata": {},
   "outputs": [
    {
     "name": "stderr",
     "output_type": "stream",
     "text": [
      "C:\\Users\\qma67\\AppData\\Local\\Continuum\\anaconda3\\lib\\site-packages\\sklearn\\linear_model\\logistic.py:432: FutureWarning: Default solver will be changed to 'lbfgs' in 0.22. Specify a solver to silence this warning.\n",
      "  FutureWarning)\n",
      "C:\\Users\\qma67\\AppData\\Local\\Continuum\\anaconda3\\lib\\site-packages\\sklearn\\linear_model\\logistic.py:432: FutureWarning: Default solver will be changed to 'lbfgs' in 0.22. Specify a solver to silence this warning.\n",
      "  FutureWarning)\n",
      "C:\\Users\\qma67\\AppData\\Local\\Continuum\\anaconda3\\lib\\site-packages\\sklearn\\linear_model\\logistic.py:432: FutureWarning: Default solver will be changed to 'lbfgs' in 0.22. Specify a solver to silence this warning.\n",
      "  FutureWarning)\n",
      "C:\\Users\\qma67\\AppData\\Local\\Continuum\\anaconda3\\lib\\site-packages\\sklearn\\linear_model\\logistic.py:432: FutureWarning: Default solver will be changed to 'lbfgs' in 0.22. Specify a solver to silence this warning.\n",
      "  FutureWarning)\n",
      "C:\\Users\\qma67\\AppData\\Local\\Continuum\\anaconda3\\lib\\site-packages\\sklearn\\linear_model\\logistic.py:432: FutureWarning: Default solver will be changed to 'lbfgs' in 0.22. Specify a solver to silence this warning.\n",
      "  FutureWarning)\n",
      "C:\\Users\\qma67\\AppData\\Local\\Continuum\\anaconda3\\lib\\site-packages\\sklearn\\linear_model\\logistic.py:432: FutureWarning: Default solver will be changed to 'lbfgs' in 0.22. Specify a solver to silence this warning.\n",
      "  FutureWarning)\n"
     ]
    }
   ],
   "source": [
    "#cub kfold\n",
    "kmdl.fit(xcub, np.ravel(ycub))\n",
    "cr2val = cross_val_score(kmdl,xcub,np.ravel(ycub), cv = kfold, scoring = 'roc_auc')"
   ]
  },
  {
   "cell_type": "code",
   "execution_count": 260,
   "metadata": {},
   "outputs": [
    {
     "name": "stderr",
     "output_type": "stream",
     "text": [
      "C:\\Users\\qma67\\AppData\\Local\\Continuum\\anaconda3\\lib\\site-packages\\sklearn\\linear_model\\logistic.py:432: FutureWarning: Default solver will be changed to 'lbfgs' in 0.22. Specify a solver to silence this warning.\n",
      "  FutureWarning)\n",
      "C:\\Users\\qma67\\AppData\\Local\\Continuum\\anaconda3\\lib\\site-packages\\sklearn\\linear_model\\logistic.py:432: FutureWarning: Default solver will be changed to 'lbfgs' in 0.22. Specify a solver to silence this warning.\n",
      "  FutureWarning)\n",
      "C:\\Users\\qma67\\AppData\\Local\\Continuum\\anaconda3\\lib\\site-packages\\sklearn\\linear_model\\logistic.py:432: FutureWarning: Default solver will be changed to 'lbfgs' in 0.22. Specify a solver to silence this warning.\n",
      "  FutureWarning)\n",
      "C:\\Users\\qma67\\AppData\\Local\\Continuum\\anaconda3\\lib\\site-packages\\sklearn\\linear_model\\logistic.py:432: FutureWarning: Default solver will be changed to 'lbfgs' in 0.22. Specify a solver to silence this warning.\n",
      "  FutureWarning)\n",
      "C:\\Users\\qma67\\AppData\\Local\\Continuum\\anaconda3\\lib\\site-packages\\sklearn\\linear_model\\logistic.py:432: FutureWarning: Default solver will be changed to 'lbfgs' in 0.22. Specify a solver to silence this warning.\n",
      "  FutureWarning)\n",
      "C:\\Users\\qma67\\AppData\\Local\\Continuum\\anaconda3\\lib\\site-packages\\sklearn\\linear_model\\logistic.py:432: FutureWarning: Default solver will be changed to 'lbfgs' in 0.22. Specify a solver to silence this warning.\n",
      "  FutureWarning)\n"
     ]
    }
   ],
   "source": [
    "#svn kfold\n",
    "#linear kfold\n",
    "kmdl.fit(xsvn, np.ravel(ysvn))\n",
    "cr3val = cross_val_score(kmdl,xsvn,np.ravel(ysvn), cv = kfold, scoring = 'roc_auc')"
   ]
  },
  {
   "cell_type": "code",
   "execution_count": 263,
   "metadata": {},
   "outputs": [
    {
     "name": "stdout",
     "output_type": "stream",
     "text": [
      "Linear:  [0.66666667 0.5        0.875      0.95238095 0.9047619 ]\n",
      "Cubic:  [0.66666667 0.5        0.875      0.95238095 0.9047619 ]\n",
      "Seventh:  [0.57142857 0.625      0.91666667 0.95238095 0.76190476]\n"
     ]
    }
   ],
   "source": [
    "print(\"Linear: \",crval )\n",
    "print(\"Cubic: \",cr2val)\n",
    "print(\"Seventh: \",cr3val)"
   ]
  },
  {
   "cell_type": "code",
   "execution_count": 264,
   "metadata": {},
   "outputs": [],
   "source": [
    "crval = pd.DataFrame([crval,cr2val,cr3val])"
   ]
  },
  {
   "cell_type": "code",
   "execution_count": 266,
   "metadata": {},
   "outputs": [
    {
     "data": {
      "text/html": [
       "<div>\n",
       "<style scoped>\n",
       "    .dataframe tbody tr th:only-of-type {\n",
       "        vertical-align: middle;\n",
       "    }\n",
       "\n",
       "    .dataframe tbody tr th {\n",
       "        vertical-align: top;\n",
       "    }\n",
       "\n",
       "    .dataframe thead th {\n",
       "        text-align: right;\n",
       "    }\n",
       "</style>\n",
       "<table border=\"1\" class=\"dataframe\">\n",
       "  <thead>\n",
       "    <tr style=\"text-align: right;\">\n",
       "      <th></th>\n",
       "      <th>0</th>\n",
       "      <th>1</th>\n",
       "      <th>2</th>\n",
       "      <th>3</th>\n",
       "      <th>4</th>\n",
       "    </tr>\n",
       "  </thead>\n",
       "  <tbody>\n",
       "    <tr>\n",
       "      <td>0</td>\n",
       "      <td>0.666667</td>\n",
       "      <td>0.500</td>\n",
       "      <td>0.875000</td>\n",
       "      <td>0.952381</td>\n",
       "      <td>0.904762</td>\n",
       "    </tr>\n",
       "    <tr>\n",
       "      <td>1</td>\n",
       "      <td>0.666667</td>\n",
       "      <td>0.500</td>\n",
       "      <td>0.875000</td>\n",
       "      <td>0.952381</td>\n",
       "      <td>0.904762</td>\n",
       "    </tr>\n",
       "    <tr>\n",
       "      <td>2</td>\n",
       "      <td>0.571429</td>\n",
       "      <td>0.625</td>\n",
       "      <td>0.916667</td>\n",
       "      <td>0.952381</td>\n",
       "      <td>0.761905</td>\n",
       "    </tr>\n",
       "  </tbody>\n",
       "</table>\n",
       "</div>"
      ],
      "text/plain": [
       "          0      1         2         3         4\n",
       "0  0.666667  0.500  0.875000  0.952381  0.904762\n",
       "1  0.666667  0.500  0.875000  0.952381  0.904762\n",
       "2  0.571429  0.625  0.916667  0.952381  0.761905"
      ]
     },
     "execution_count": 266,
     "metadata": {},
     "output_type": "execute_result"
    }
   ],
   "source": [
    "crval.head()"
   ]
  },
  {
   "cell_type": "code",
   "execution_count": 270,
   "metadata": {},
   "outputs": [
    {
     "name": "stdout",
     "output_type": "stream",
     "text": [
      "0   -0.779762\n",
      "1   -0.779762\n",
      "2   -0.765476\n",
      "dtype: float64\n"
     ]
    }
   ],
   "source": [
    "print(-crval.apply(np.mean, axis=1))"
   ]
  },
  {
   "cell_type": "markdown",
   "metadata": {},
   "source": [
    "Seems model 1 and 2 have the same score which are the lowest which means that those two have the best performance."
   ]
  },
  {
   "cell_type": "code",
   "execution_count": null,
   "metadata": {},
   "outputs": [],
   "source": []
  }
 ],
 "metadata": {
  "kernelspec": {
   "display_name": "Python 3",
   "language": "python",
   "name": "python3"
  },
  "language_info": {
   "codemirror_mode": {
    "name": "ipython",
    "version": 3
   },
   "file_extension": ".py",
   "mimetype": "text/x-python",
   "name": "python",
   "nbconvert_exporter": "python",
   "pygments_lexer": "ipython3",
   "version": "3.7.4"
  }
 },
 "nbformat": 4,
 "nbformat_minor": 2
}
